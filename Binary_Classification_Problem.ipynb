{
 "cells": [
  {
   "cell_type": "code",
   "execution_count": 1,
   "id": "f589fad6",
   "metadata": {},
   "outputs": [],
   "source": [
    "import pandas as pd\n",
    "import numpy as np\n",
    "import matplotlib.pyplot as plt\n",
    "import seaborn as sns\n",
    "from sklearn.preprocessing import OneHotEncoder\n",
    "from sklearn.model_selection import train_test_split\n",
    "from sklearn.linear_model import LogisticRegression\n",
    "from sklearn.metrics import classification_report\n",
    "from sklearn.metrics import confusion_matrix\n",
    "from imblearn.over_sampling import SMOTE\n",
    "from sklearn.ensemble import RandomForestClassifier\n",
    "from sklearn.metrics import accuracy_score\n",
    "from sklearn.metrics import precision_score\n",
    "from sklearn.metrics import recall_score\n",
    "from sklearn.metrics import f1_score"
   ]
  },
  {
   "cell_type": "markdown",
   "id": "572bf37b",
   "metadata": {},
   "source": [
    "## EDA"
   ]
  },
  {
   "cell_type": "code",
   "execution_count": 3,
   "id": "a2637a6c",
   "metadata": {
    "scrolled": true
   },
   "outputs": [
    {
     "data": {
      "text/html": [
       "<div>\n",
       "<style scoped>\n",
       "    .dataframe tbody tr th:only-of-type {\n",
       "        vertical-align: middle;\n",
       "    }\n",
       "\n",
       "    .dataframe tbody tr th {\n",
       "        vertical-align: top;\n",
       "    }\n",
       "\n",
       "    .dataframe thead th {\n",
       "        text-align: right;\n",
       "    }\n",
       "</style>\n",
       "<table border=\"1\" class=\"dataframe\">\n",
       "  <thead>\n",
       "    <tr style=\"text-align: right;\">\n",
       "      <th></th>\n",
       "      <th>enrollee_id</th>\n",
       "      <th>city</th>\n",
       "      <th>city_development_index</th>\n",
       "      <th>gender</th>\n",
       "      <th>relevent_experience</th>\n",
       "      <th>enrolled_university</th>\n",
       "      <th>education_level</th>\n",
       "      <th>major_discipline</th>\n",
       "      <th>experience</th>\n",
       "      <th>company_size</th>\n",
       "      <th>company_type</th>\n",
       "      <th>last_new_job</th>\n",
       "      <th>training_hours</th>\n",
       "      <th>target</th>\n",
       "    </tr>\n",
       "  </thead>\n",
       "  <tbody>\n",
       "    <tr>\n",
       "      <th>0</th>\n",
       "      <td>8949</td>\n",
       "      <td>city_103</td>\n",
       "      <td>0.920</td>\n",
       "      <td>Male</td>\n",
       "      <td>Has relevent experience</td>\n",
       "      <td>no_enrollment</td>\n",
       "      <td>Graduate</td>\n",
       "      <td>STEM</td>\n",
       "      <td>&gt;20</td>\n",
       "      <td>NaN</td>\n",
       "      <td>NaN</td>\n",
       "      <td>1</td>\n",
       "      <td>36</td>\n",
       "      <td>1.0</td>\n",
       "    </tr>\n",
       "    <tr>\n",
       "      <th>1</th>\n",
       "      <td>29725</td>\n",
       "      <td>city_40</td>\n",
       "      <td>0.776</td>\n",
       "      <td>Male</td>\n",
       "      <td>No relevent experience</td>\n",
       "      <td>no_enrollment</td>\n",
       "      <td>Graduate</td>\n",
       "      <td>STEM</td>\n",
       "      <td>15</td>\n",
       "      <td>50-99</td>\n",
       "      <td>Pvt Ltd</td>\n",
       "      <td>&gt;4</td>\n",
       "      <td>47</td>\n",
       "      <td>0.0</td>\n",
       "    </tr>\n",
       "    <tr>\n",
       "      <th>2</th>\n",
       "      <td>11561</td>\n",
       "      <td>city_21</td>\n",
       "      <td>0.624</td>\n",
       "      <td>NaN</td>\n",
       "      <td>No relevent experience</td>\n",
       "      <td>Full time course</td>\n",
       "      <td>Graduate</td>\n",
       "      <td>STEM</td>\n",
       "      <td>5</td>\n",
       "      <td>NaN</td>\n",
       "      <td>NaN</td>\n",
       "      <td>never</td>\n",
       "      <td>83</td>\n",
       "      <td>0.0</td>\n",
       "    </tr>\n",
       "    <tr>\n",
       "      <th>3</th>\n",
       "      <td>33241</td>\n",
       "      <td>city_115</td>\n",
       "      <td>0.789</td>\n",
       "      <td>NaN</td>\n",
       "      <td>No relevent experience</td>\n",
       "      <td>NaN</td>\n",
       "      <td>Graduate</td>\n",
       "      <td>Business Degree</td>\n",
       "      <td>&lt;1</td>\n",
       "      <td>NaN</td>\n",
       "      <td>Pvt Ltd</td>\n",
       "      <td>never</td>\n",
       "      <td>52</td>\n",
       "      <td>1.0</td>\n",
       "    </tr>\n",
       "    <tr>\n",
       "      <th>4</th>\n",
       "      <td>666</td>\n",
       "      <td>city_162</td>\n",
       "      <td>0.767</td>\n",
       "      <td>Male</td>\n",
       "      <td>Has relevent experience</td>\n",
       "      <td>no_enrollment</td>\n",
       "      <td>Masters</td>\n",
       "      <td>STEM</td>\n",
       "      <td>&gt;20</td>\n",
       "      <td>50-99</td>\n",
       "      <td>Funded Startup</td>\n",
       "      <td>4</td>\n",
       "      <td>8</td>\n",
       "      <td>0.0</td>\n",
       "    </tr>\n",
       "  </tbody>\n",
       "</table>\n",
       "</div>"
      ],
      "text/plain": [
       "   enrollee_id      city  city_development_index gender  \\\n",
       "0         8949  city_103                   0.920   Male   \n",
       "1        29725   city_40                   0.776   Male   \n",
       "2        11561   city_21                   0.624    NaN   \n",
       "3        33241  city_115                   0.789    NaN   \n",
       "4          666  city_162                   0.767   Male   \n",
       "\n",
       "       relevent_experience enrolled_university education_level  \\\n",
       "0  Has relevent experience       no_enrollment        Graduate   \n",
       "1   No relevent experience       no_enrollment        Graduate   \n",
       "2   No relevent experience    Full time course        Graduate   \n",
       "3   No relevent experience                 NaN        Graduate   \n",
       "4  Has relevent experience       no_enrollment         Masters   \n",
       "\n",
       "  major_discipline experience company_size    company_type last_new_job  \\\n",
       "0             STEM        >20          NaN             NaN            1   \n",
       "1             STEM         15        50-99         Pvt Ltd           >4   \n",
       "2             STEM          5          NaN             NaN        never   \n",
       "3  Business Degree         <1          NaN         Pvt Ltd        never   \n",
       "4             STEM        >20        50-99  Funded Startup            4   \n",
       "\n",
       "   training_hours  target  \n",
       "0              36     1.0  \n",
       "1              47     0.0  \n",
       "2              83     0.0  \n",
       "3              52     1.0  \n",
       "4               8     0.0  "
      ]
     },
     "execution_count": 3,
     "metadata": {},
     "output_type": "execute_result"
    }
   ],
   "source": [
    "df=pd.read_csv('../final-project/files/aug_train.csv')\n",
    "df.head()"
   ]
  },
  {
   "cell_type": "code",
   "execution_count": null,
   "id": "5c670797",
   "metadata": {},
   "outputs": [],
   "source": [
    "df.shape"
   ]
  },
  {
   "cell_type": "code",
   "execution_count": null,
   "id": "b65bdd3d",
   "metadata": {
    "scrolled": true
   },
   "outputs": [],
   "source": [
    "df.info()"
   ]
  },
  {
   "cell_type": "code",
   "execution_count": null,
   "id": "0a7a5225",
   "metadata": {},
   "outputs": [],
   "source": [
    "# This data set consists mainly of categorical columns. Some of these need to be transformed to numerical data\n",
    "# The target variable is a categorical column, hence this will be a binary clustering problem. "
   ]
  },
  {
   "cell_type": "code",
   "execution_count": null,
   "id": "a2cf375d",
   "metadata": {
    "scrolled": true
   },
   "outputs": [],
   "source": [
    "df.describe()"
   ]
  },
  {
   "cell_type": "code",
   "execution_count": 8,
   "id": "c4361c7f",
   "metadata": {
    "scrolled": false
   },
   "outputs": [
    {
     "data": {
      "text/html": [
       "<div>\n",
       "<style scoped>\n",
       "    .dataframe tbody tr th:only-of-type {\n",
       "        vertical-align: middle;\n",
       "    }\n",
       "\n",
       "    .dataframe tbody tr th {\n",
       "        vertical-align: top;\n",
       "    }\n",
       "\n",
       "    .dataframe thead th {\n",
       "        text-align: right;\n",
       "    }\n",
       "</style>\n",
       "<table border=\"1\" class=\"dataframe\">\n",
       "  <thead>\n",
       "    <tr style=\"text-align: right;\">\n",
       "      <th></th>\n",
       "      <th>percentage</th>\n",
       "    </tr>\n",
       "  </thead>\n",
       "  <tbody>\n",
       "    <tr>\n",
       "      <th>last_new_job</th>\n",
       "      <td>2.207955</td>\n",
       "    </tr>\n",
       "    <tr>\n",
       "      <th>experience</th>\n",
       "      <td>0.339284</td>\n",
       "    </tr>\n",
       "    <tr>\n",
       "      <th>enrollee_id</th>\n",
       "      <td>0.000000</td>\n",
       "    </tr>\n",
       "    <tr>\n",
       "      <th>city</th>\n",
       "      <td>0.000000</td>\n",
       "    </tr>\n",
       "    <tr>\n",
       "      <th>city_development_index</th>\n",
       "      <td>0.000000</td>\n",
       "    </tr>\n",
       "    <tr>\n",
       "      <th>gender</th>\n",
       "      <td>0.000000</td>\n",
       "    </tr>\n",
       "    <tr>\n",
       "      <th>relevent_experience</th>\n",
       "      <td>0.000000</td>\n",
       "    </tr>\n",
       "    <tr>\n",
       "      <th>enrolled_university</th>\n",
       "      <td>0.000000</td>\n",
       "    </tr>\n",
       "    <tr>\n",
       "      <th>education_level</th>\n",
       "      <td>0.000000</td>\n",
       "    </tr>\n",
       "    <tr>\n",
       "      <th>major_discipline</th>\n",
       "      <td>0.000000</td>\n",
       "    </tr>\n",
       "    <tr>\n",
       "      <th>company_size</th>\n",
       "      <td>0.000000</td>\n",
       "    </tr>\n",
       "    <tr>\n",
       "      <th>company_type</th>\n",
       "      <td>0.000000</td>\n",
       "    </tr>\n",
       "    <tr>\n",
       "      <th>training_hours</th>\n",
       "      <td>0.000000</td>\n",
       "    </tr>\n",
       "    <tr>\n",
       "      <th>target</th>\n",
       "      <td>0.000000</td>\n",
       "    </tr>\n",
       "  </tbody>\n",
       "</table>\n",
       "</div>"
      ],
      "text/plain": [
       "                        percentage\n",
       "last_new_job              2.207955\n",
       "experience                0.339284\n",
       "enrollee_id               0.000000\n",
       "city                      0.000000\n",
       "city_development_index    0.000000\n",
       "gender                    0.000000\n",
       "relevent_experience       0.000000\n",
       "enrolled_university       0.000000\n",
       "education_level           0.000000\n",
       "major_discipline          0.000000\n",
       "company_size              0.000000\n",
       "company_type              0.000000\n",
       "training_hours            0.000000\n",
       "target                    0.000000"
      ]
     },
     "execution_count": 8,
     "metadata": {},
     "output_type": "execute_result"
    }
   ],
   "source": [
    "# There are a lot of missing values, which need to be filled\n",
    "nulls = pd.DataFrame(df.isna().sum()*100/len(df), columns=['percentage'])\n",
    "nulls.sort_values('percentage', ascending = False).head(80)"
   ]
  },
  {
   "cell_type": "code",
   "execution_count": null,
   "id": "c3fca221",
   "metadata": {
    "scrolled": true
   },
   "outputs": [],
   "source": [
    "# There is a hudge inbalance in the target variable inside each column. \n",
    "# Most of candidates dont want to change their job after finishing the training\n",
    "df.groupby('target').count()"
   ]
  },
  {
   "cell_type": "markdown",
   "id": "d4f01e73",
   "metadata": {},
   "source": [
    "## Data Cleaning"
   ]
  },
  {
   "cell_type": "code",
   "execution_count": 4,
   "id": "f1a5a6f7",
   "metadata": {
    "scrolled": false
   },
   "outputs": [
    {
     "data": {
      "text/html": [
       "<div>\n",
       "<style scoped>\n",
       "    .dataframe tbody tr th:only-of-type {\n",
       "        vertical-align: middle;\n",
       "    }\n",
       "\n",
       "    .dataframe tbody tr th {\n",
       "        vertical-align: top;\n",
       "    }\n",
       "\n",
       "    .dataframe thead th {\n",
       "        text-align: right;\n",
       "    }\n",
       "</style>\n",
       "<table border=\"1\" class=\"dataframe\">\n",
       "  <thead>\n",
       "    <tr style=\"text-align: right;\">\n",
       "      <th></th>\n",
       "      <th>city</th>\n",
       "      <th>city_development_index</th>\n",
       "      <th>gender</th>\n",
       "      <th>relevent_experience</th>\n",
       "      <th>enrolled_university</th>\n",
       "      <th>education_level</th>\n",
       "      <th>major_discipline</th>\n",
       "      <th>experience</th>\n",
       "      <th>company_size</th>\n",
       "      <th>company_type</th>\n",
       "      <th>last_new_job</th>\n",
       "      <th>training_hours</th>\n",
       "      <th>target</th>\n",
       "    </tr>\n",
       "    <tr>\n",
       "      <th>enrollee_id</th>\n",
       "      <th></th>\n",
       "      <th></th>\n",
       "      <th></th>\n",
       "      <th></th>\n",
       "      <th></th>\n",
       "      <th></th>\n",
       "      <th></th>\n",
       "      <th></th>\n",
       "      <th></th>\n",
       "      <th></th>\n",
       "      <th></th>\n",
       "      <th></th>\n",
       "      <th></th>\n",
       "    </tr>\n",
       "  </thead>\n",
       "  <tbody>\n",
       "    <tr>\n",
       "      <th>8949</th>\n",
       "      <td>city_103</td>\n",
       "      <td>0.920</td>\n",
       "      <td>Male</td>\n",
       "      <td>Has relevent experience</td>\n",
       "      <td>no_enrollment</td>\n",
       "      <td>Graduate</td>\n",
       "      <td>STEM</td>\n",
       "      <td>&gt;20</td>\n",
       "      <td>NaN</td>\n",
       "      <td>NaN</td>\n",
       "      <td>1</td>\n",
       "      <td>36</td>\n",
       "      <td>1.0</td>\n",
       "    </tr>\n",
       "    <tr>\n",
       "      <th>29725</th>\n",
       "      <td>city_40</td>\n",
       "      <td>0.776</td>\n",
       "      <td>Male</td>\n",
       "      <td>No relevent experience</td>\n",
       "      <td>no_enrollment</td>\n",
       "      <td>Graduate</td>\n",
       "      <td>STEM</td>\n",
       "      <td>15</td>\n",
       "      <td>50-99</td>\n",
       "      <td>Pvt Ltd</td>\n",
       "      <td>&gt;4</td>\n",
       "      <td>47</td>\n",
       "      <td>0.0</td>\n",
       "    </tr>\n",
       "    <tr>\n",
       "      <th>11561</th>\n",
       "      <td>city_21</td>\n",
       "      <td>0.624</td>\n",
       "      <td>NaN</td>\n",
       "      <td>No relevent experience</td>\n",
       "      <td>Full time course</td>\n",
       "      <td>Graduate</td>\n",
       "      <td>STEM</td>\n",
       "      <td>5</td>\n",
       "      <td>NaN</td>\n",
       "      <td>NaN</td>\n",
       "      <td>never</td>\n",
       "      <td>83</td>\n",
       "      <td>0.0</td>\n",
       "    </tr>\n",
       "    <tr>\n",
       "      <th>33241</th>\n",
       "      <td>city_115</td>\n",
       "      <td>0.789</td>\n",
       "      <td>NaN</td>\n",
       "      <td>No relevent experience</td>\n",
       "      <td>NaN</td>\n",
       "      <td>Graduate</td>\n",
       "      <td>Business Degree</td>\n",
       "      <td>&lt;1</td>\n",
       "      <td>NaN</td>\n",
       "      <td>Pvt Ltd</td>\n",
       "      <td>never</td>\n",
       "      <td>52</td>\n",
       "      <td>1.0</td>\n",
       "    </tr>\n",
       "    <tr>\n",
       "      <th>666</th>\n",
       "      <td>city_162</td>\n",
       "      <td>0.767</td>\n",
       "      <td>Male</td>\n",
       "      <td>Has relevent experience</td>\n",
       "      <td>no_enrollment</td>\n",
       "      <td>Masters</td>\n",
       "      <td>STEM</td>\n",
       "      <td>&gt;20</td>\n",
       "      <td>50-99</td>\n",
       "      <td>Funded Startup</td>\n",
       "      <td>4</td>\n",
       "      <td>8</td>\n",
       "      <td>0.0</td>\n",
       "    </tr>\n",
       "    <tr>\n",
       "      <th>...</th>\n",
       "      <td>...</td>\n",
       "      <td>...</td>\n",
       "      <td>...</td>\n",
       "      <td>...</td>\n",
       "      <td>...</td>\n",
       "      <td>...</td>\n",
       "      <td>...</td>\n",
       "      <td>...</td>\n",
       "      <td>...</td>\n",
       "      <td>...</td>\n",
       "      <td>...</td>\n",
       "      <td>...</td>\n",
       "      <td>...</td>\n",
       "    </tr>\n",
       "    <tr>\n",
       "      <th>7386</th>\n",
       "      <td>city_173</td>\n",
       "      <td>0.878</td>\n",
       "      <td>Male</td>\n",
       "      <td>No relevent experience</td>\n",
       "      <td>no_enrollment</td>\n",
       "      <td>Graduate</td>\n",
       "      <td>Humanities</td>\n",
       "      <td>14</td>\n",
       "      <td>NaN</td>\n",
       "      <td>NaN</td>\n",
       "      <td>1</td>\n",
       "      <td>42</td>\n",
       "      <td>1.0</td>\n",
       "    </tr>\n",
       "    <tr>\n",
       "      <th>31398</th>\n",
       "      <td>city_103</td>\n",
       "      <td>0.920</td>\n",
       "      <td>Male</td>\n",
       "      <td>Has relevent experience</td>\n",
       "      <td>no_enrollment</td>\n",
       "      <td>Graduate</td>\n",
       "      <td>STEM</td>\n",
       "      <td>14</td>\n",
       "      <td>NaN</td>\n",
       "      <td>NaN</td>\n",
       "      <td>4</td>\n",
       "      <td>52</td>\n",
       "      <td>1.0</td>\n",
       "    </tr>\n",
       "    <tr>\n",
       "      <th>24576</th>\n",
       "      <td>city_103</td>\n",
       "      <td>0.920</td>\n",
       "      <td>Male</td>\n",
       "      <td>Has relevent experience</td>\n",
       "      <td>no_enrollment</td>\n",
       "      <td>Graduate</td>\n",
       "      <td>STEM</td>\n",
       "      <td>&gt;20</td>\n",
       "      <td>50-99</td>\n",
       "      <td>Pvt Ltd</td>\n",
       "      <td>4</td>\n",
       "      <td>44</td>\n",
       "      <td>0.0</td>\n",
       "    </tr>\n",
       "    <tr>\n",
       "      <th>5756</th>\n",
       "      <td>city_65</td>\n",
       "      <td>0.802</td>\n",
       "      <td>Male</td>\n",
       "      <td>Has relevent experience</td>\n",
       "      <td>no_enrollment</td>\n",
       "      <td>High School</td>\n",
       "      <td>NaN</td>\n",
       "      <td>&lt;1</td>\n",
       "      <td>500-999</td>\n",
       "      <td>Pvt Ltd</td>\n",
       "      <td>2</td>\n",
       "      <td>97</td>\n",
       "      <td>0.0</td>\n",
       "    </tr>\n",
       "    <tr>\n",
       "      <th>23834</th>\n",
       "      <td>city_67</td>\n",
       "      <td>0.855</td>\n",
       "      <td>NaN</td>\n",
       "      <td>No relevent experience</td>\n",
       "      <td>no_enrollment</td>\n",
       "      <td>Primary School</td>\n",
       "      <td>NaN</td>\n",
       "      <td>2</td>\n",
       "      <td>NaN</td>\n",
       "      <td>NaN</td>\n",
       "      <td>1</td>\n",
       "      <td>127</td>\n",
       "      <td>0.0</td>\n",
       "    </tr>\n",
       "  </tbody>\n",
       "</table>\n",
       "<p>19158 rows × 13 columns</p>\n",
       "</div>"
      ],
      "text/plain": [
       "                 city  city_development_index gender      relevent_experience  \\\n",
       "enrollee_id                                                                     \n",
       "8949         city_103                   0.920   Male  Has relevent experience   \n",
       "29725         city_40                   0.776   Male   No relevent experience   \n",
       "11561         city_21                   0.624    NaN   No relevent experience   \n",
       "33241        city_115                   0.789    NaN   No relevent experience   \n",
       "666          city_162                   0.767   Male  Has relevent experience   \n",
       "...               ...                     ...    ...                      ...   \n",
       "7386         city_173                   0.878   Male   No relevent experience   \n",
       "31398        city_103                   0.920   Male  Has relevent experience   \n",
       "24576        city_103                   0.920   Male  Has relevent experience   \n",
       "5756          city_65                   0.802   Male  Has relevent experience   \n",
       "23834         city_67                   0.855    NaN   No relevent experience   \n",
       "\n",
       "            enrolled_university education_level major_discipline experience  \\\n",
       "enrollee_id                                                                   \n",
       "8949              no_enrollment        Graduate             STEM        >20   \n",
       "29725             no_enrollment        Graduate             STEM         15   \n",
       "11561          Full time course        Graduate             STEM          5   \n",
       "33241                       NaN        Graduate  Business Degree         <1   \n",
       "666               no_enrollment         Masters             STEM        >20   \n",
       "...                         ...             ...              ...        ...   \n",
       "7386              no_enrollment        Graduate       Humanities         14   \n",
       "31398             no_enrollment        Graduate             STEM         14   \n",
       "24576             no_enrollment        Graduate             STEM        >20   \n",
       "5756              no_enrollment     High School              NaN         <1   \n",
       "23834             no_enrollment  Primary School              NaN          2   \n",
       "\n",
       "            company_size    company_type last_new_job  training_hours  target  \n",
       "enrollee_id                                                                    \n",
       "8949                 NaN             NaN            1              36     1.0  \n",
       "29725              50-99         Pvt Ltd           >4              47     0.0  \n",
       "11561                NaN             NaN        never              83     0.0  \n",
       "33241                NaN         Pvt Ltd        never              52     1.0  \n",
       "666                50-99  Funded Startup            4               8     0.0  \n",
       "...                  ...             ...          ...             ...     ...  \n",
       "7386                 NaN             NaN            1              42     1.0  \n",
       "31398                NaN             NaN            4              52     1.0  \n",
       "24576              50-99         Pvt Ltd            4              44     0.0  \n",
       "5756             500-999         Pvt Ltd            2              97     0.0  \n",
       "23834                NaN             NaN            1             127     0.0  \n",
       "\n",
       "[19158 rows x 13 columns]"
      ]
     },
     "execution_count": 4,
     "metadata": {},
     "output_type": "execute_result"
    }
   ],
   "source": [
    "df.set_index('enrollee_id')"
   ]
  },
  {
   "cell_type": "code",
   "execution_count": 9,
   "id": "71344b4e",
   "metadata": {},
   "outputs": [],
   "source": [
    "# Replacing NaNs with the mode of the columns\n",
    "df['education_level'] = df['education_level'].fillna(df['education_level'].mode()[0])\n",
    "df['company_type'] = df['company_type'].fillna(df['company_type'].mode()[0])\n",
    "df['company_size'] = df['company_size'].fillna(df['company_size'].mode()[0])\n",
    "df['gender'] = df['gender'].fillna(df['gender'].mode()[0])\n",
    "df['major_discipline'] = df['major_discipline'].fillna(df['major_discipline'].mode()[0])\n",
    "df['enrolled_university'] = df['enrolled_university'].fillna(df['enrolled_university'].mode()[0])\n",
    "df['last_new_job'] = df['last_new_job'].fillna(df['last_new_job'].mode()[0])\n",
    "df['experience'] = df['experience'].fillna(df['experience'].mode()[0])"
   ]
  },
  {
   "cell_type": "code",
   "execution_count": 10,
   "id": "7177fb56",
   "metadata": {
    "scrolled": true
   },
   "outputs": [],
   "source": [
    "# Removing the NaNs by filing them with a new category.\n",
    "#df['relevent_experience'].unique() \n",
    "\n",
    "# Function to impute null value with new category\n",
    "#def impute_nan_create_category(df,ColName):\n",
    "     #df[ColName] = np.where(df[ColName].isnull(),\"unknown\",df[ColName])\n",
    "\n",
    "# Call function to create new category for variables\n",
    "#for Columns in ['education_level','company_type','company_size','gender','major_discipline','enrolled_university']:\n",
    "    #impute_nan_create_category(df,Columns)\n",
    "\n",
    "# Display result\n",
    "#df[['education_level','company_type','company_size','gender','major_discipline','enrolled_university']].head(10)\n"
   ]
  },
  {
   "cell_type": "code",
   "execution_count": 11,
   "id": "ad713399",
   "metadata": {},
   "outputs": [],
   "source": [
    "# Removing the highest and lowest values of 'company_size' and 'last_new_job' \n",
    "df['last_new_job'].replace(['>4','never'],['4','0'],inplace=True)\n",
    "df['last_new_job'].fillna(df['last_new_job'].value_counts().index[0],inplace=True)\n",
    "df['last_new_job'] = [float(i) for i in df['last_new_job']]\n",
    "\n",
    "df['experience'].replace(['>20','<1'],['20','1'],inplace=True)\n",
    "df['experience'].fillna(df['experience'].value_counts().index[0],inplace=True)\n",
    "df['experience'] = [float(i) for i in df['experience']]"
   ]
  },
  {
   "cell_type": "code",
   "execution_count": 12,
   "id": "bc64835a",
   "metadata": {
    "scrolled": true
   },
   "outputs": [
    {
     "data": {
      "text/plain": [
       "False"
      ]
     },
     "execution_count": 12,
     "metadata": {},
     "output_type": "execute_result"
    }
   ],
   "source": [
    "df.isnull().values.any()"
   ]
  },
  {
   "cell_type": "code",
   "execution_count": 13,
   "id": "7ce8941b",
   "metadata": {},
   "outputs": [],
   "source": [
    "# Convert values of company_size to small, medium, large, very large\n",
    "df['company_size'].replace(['<10','10/49', '50-99', '100-500', '500-999', '1000-4999', '5000-9999', '10000+',],\n",
    "                             ['Small','Small','Small','Medium','Medium','Large','Large','Large'],inplace=True)"
   ]
  },
  {
   "cell_type": "code",
   "execution_count": 17,
   "id": "840748c5",
   "metadata": {
    "scrolled": true
   },
   "outputs": [
    {
     "data": {
      "text/plain": [
       "array(['Graduate', 'Masters', 'High School', 'Phd', 'Primary School'],\n",
       "      dtype=object)"
      ]
     },
     "execution_count": 17,
     "metadata": {},
     "output_type": "execute_result"
    }
   ],
   "source": [
    "df['education_level'].unique()"
   ]
  },
  {
   "cell_type": "code",
   "execution_count": 24,
   "id": "940b45a1",
   "metadata": {
    "scrolled": true
   },
   "outputs": [
    {
     "data": {
      "text/plain": [
       "0        2\n",
       "1        2\n",
       "2        2\n",
       "3        2\n",
       "4        3\n",
       "        ..\n",
       "19153    2\n",
       "19154    2\n",
       "19155    2\n",
       "19156    1\n",
       "19157    0\n",
       "Name: education_level, Length: 19158, dtype: int64"
      ]
     },
     "execution_count": 24,
     "metadata": {},
     "output_type": "execute_result"
    }
   ],
   "source": [
    "education_level_ordinal=[]\n",
    "for i in df['education_level']:\n",
    "    if i =='Primary School':\n",
    "        education_level_ordinal.append(0)\n",
    "    elif i == 'High School':\n",
    "        education_level_ordinal.append(1)\n",
    "    elif i == 'Graduate':\n",
    "        education_level_ordinal.append(2)\n",
    "    elif i == 'Masters':\n",
    "        education_level_ordinal.append(3)\n",
    "    elif i == 'Phd':\n",
    "        education_level_ordinal.append(4)\n",
    "    else:\n",
    "        education_level_ordinal.append(5)\n",
    "\n",
    "df['education_level']=education_level_ordinal\n",
    "\n",
    "df['education_level']"
   ]
  },
  {
   "cell_type": "code",
   "execution_count": 26,
   "id": "56c36733",
   "metadata": {},
   "outputs": [
    {
     "data": {
      "text/plain": [
       "array(['Small', 'Large', 'Medium'], dtype=object)"
      ]
     },
     "execution_count": 26,
     "metadata": {},
     "output_type": "execute_result"
    }
   ],
   "source": [
    "df['company_size'].unique()"
   ]
  },
  {
   "cell_type": "code",
   "execution_count": 28,
   "id": "95b11bd6",
   "metadata": {},
   "outputs": [
    {
     "data": {
      "text/plain": [
       "0        0\n",
       "1        0\n",
       "2        0\n",
       "3        0\n",
       "4        0\n",
       "        ..\n",
       "19153    0\n",
       "19154    0\n",
       "19155    0\n",
       "19156    1\n",
       "19157    0\n",
       "Name: company_size, Length: 19158, dtype: int64"
      ]
     },
     "execution_count": 28,
     "metadata": {},
     "output_type": "execute_result"
    }
   ],
   "source": [
    "company_size_ordinal=[]\n",
    "for i in df['company_size']:\n",
    "    if i =='Small':\n",
    "        company_size_ordinal.append(0)\n",
    "    elif i == 'Medium':\n",
    "        company_size_ordinal.append(1)\n",
    "    elif i == 'Large':\n",
    "        company_size_ordinal.append(3)\n",
    "    else:\n",
    "        company_size_ordinal.append(4)\n",
    "\n",
    "df['company_size']=company_size_ordinal\n",
    "\n",
    "df['company_size']\n",
    "\n",
    "# Encoding\n",
    "\n",
    "#Ordinal to education_level\n",
    "#Ordinal to company_size\n",
    "#Ordinal to \n",
    "#Ordinal"
   ]
  },
  {
   "cell_type": "code",
   "execution_count": 29,
   "id": "6b557671",
   "metadata": {},
   "outputs": [],
   "source": [
    "model_df = df.copy()"
   ]
  },
  {
   "cell_type": "code",
   "execution_count": 30,
   "id": "0da810d1",
   "metadata": {},
   "outputs": [],
   "source": [
    "X = df.drop('target', axis=1)\n",
    "y = df['target']"
   ]
  },
  {
   "cell_type": "code",
   "execution_count": 34,
   "id": "3ce76b6b",
   "metadata": {},
   "outputs": [
    {
     "name": "stdout",
     "output_type": "stream",
     "text": [
      "(19158, 13) (19158, 7) (19158, 6)\n"
     ]
    },
    {
     "name": "stderr",
     "output_type": "stream",
     "text": [
      "/var/folders/7f/8r53735s4g5_zxdncz9qd64c0000gn/T/ipykernel_1267/2771179903.py:3: DeprecationWarning: `np.object` is a deprecated alias for the builtin `object`. To silence this warning, use `object` by itself. Doing this will not modify any behavior and is safe. \n",
      "Deprecated in NumPy 1.20; for more details and guidance: https://numpy.org/devdocs/release/1.20.0-notes.html#deprecations\n",
      "  X_cat = X.select_dtypes(include = np.object)\n"
     ]
    }
   ],
   "source": [
    "# Dealing with numerical and categorical data\n",
    "X_num = X.select_dtypes(include = np.number)\n",
    "X_cat = X.select_dtypes(include = np.object)\n",
    "print (X.shape, X_num.shape, X_cat.shape)"
   ]
  },
  {
   "cell_type": "code",
   "execution_count": 35,
   "id": "2f097a55",
   "metadata": {
    "scrolled": true
   },
   "outputs": [
    {
     "data": {
      "text/plain": [
       "OneHotEncoder(drop='first')"
      ]
     },
     "execution_count": 35,
     "metadata": {},
     "output_type": "execute_result"
    }
   ],
   "source": [
    "# One Hot/Label Encoding (categorical)\n",
    "encoder = OneHotEncoder(handle_unknown='error', drop='first')\n",
    "encoder.fit(X_cat)"
   ]
  },
  {
   "cell_type": "code",
   "execution_count": 37,
   "id": "09e06add",
   "metadata": {},
   "outputs": [
    {
     "data": {
      "text/plain": [
       "(19158, 137)"
      ]
     },
     "execution_count": 37,
     "metadata": {},
     "output_type": "execute_result"
    }
   ],
   "source": [
    "encoded = encoder.transform(X_cat).toarray()\n",
    "encoded.shape"
   ]
  },
  {
   "cell_type": "code",
   "execution_count": 38,
   "id": "4b2efeaa",
   "metadata": {},
   "outputs": [
    {
     "data": {
      "text/plain": [
       "(19158, 144)"
      ]
     },
     "execution_count": 38,
     "metadata": {},
     "output_type": "execute_result"
    }
   ],
   "source": [
    "# Concat DataFrames\n",
    "X = np.concatenate([X_num, encoded], axis=1)\n",
    "X.shape"
   ]
  },
  {
   "cell_type": "markdown",
   "id": "aaf6b56a",
   "metadata": {},
   "source": [
    "\n",
    "## Training the Benchmark Model/Logistic regression"
   ]
  },
  {
   "cell_type": "code",
   "execution_count": 39,
   "id": "0de2556a",
   "metadata": {},
   "outputs": [],
   "source": [
    "#Splitting the data into training set and test set\n",
    "X_train, X_test, y_train, y_test = train_test_split(X, y, test_size=0.20, random_state=42)"
   ]
  },
  {
   "cell_type": "code",
   "execution_count": 40,
   "id": "704fac1b",
   "metadata": {},
   "outputs": [
    {
     "data": {
      "text/plain": [
       "(15326, 144)"
      ]
     },
     "execution_count": 40,
     "metadata": {},
     "output_type": "execute_result"
    }
   ],
   "source": [
    "# using standard scaler\n",
    "from sklearn.preprocessing import StandardScaler\n",
    "\n",
    "transformer = StandardScaler() # StandardScaler and MinMax scaler works row wise,\n",
    "# so make sure you do the train-test split first (optional)\n",
    "# (train-test split comes first, \n",
    "#or else your trainning set will carry information from your test set)\n",
    "transformer.fit(X_train)\n",
    "\n",
    "x_standardized = transformer.transform(X_train)\n",
    "x_standardized.shape\n",
    "#pd.DataFrame(x_standardized)\n",
    "\n"
   ]
  },
  {
   "cell_type": "code",
   "execution_count": 41,
   "id": "1824281c",
   "metadata": {},
   "outputs": [],
   "source": [
    "x_test = transformer.transform(X_test)"
   ]
  },
  {
   "cell_type": "code",
   "execution_count": 42,
   "id": "319b37db",
   "metadata": {
    "scrolled": true
   },
   "outputs": [
    {
     "data": {
      "text/plain": [
       "LogisticRegression(max_iter=500, random_state=42)"
      ]
     },
     "execution_count": 42,
     "metadata": {},
     "output_type": "execute_result"
    }
   ],
   "source": [
    "classification = LogisticRegression(random_state=42, max_iter=500) # max_iter\n",
    "classification.fit(X_train, y_train)"
   ]
  },
  {
   "cell_type": "code",
   "execution_count": 43,
   "id": "1325fd1d",
   "metadata": {},
   "outputs": [
    {
     "data": {
      "text/plain": [
       "array([[2294,  586],\n",
       "       [ 372,  580]])"
      ]
     },
     "execution_count": 43,
     "metadata": {},
     "output_type": "execute_result"
    }
   ],
   "source": [
    "predictions = classification.predict(x_test)\n",
    "confusion_matrix(y_test, predictions)"
   ]
  },
  {
   "cell_type": "code",
   "execution_count": 44,
   "id": "bd27e195",
   "metadata": {},
   "outputs": [
    {
     "name": "stdout",
     "output_type": "stream",
     "text": [
      "              precision    recall  f1-score   support\n",
      "\n",
      "         0.0       0.86      0.80      0.83      2880\n",
      "         1.0       0.50      0.61      0.55       952\n",
      "\n",
      "    accuracy                           0.75      3832\n",
      "   macro avg       0.68      0.70      0.69      3832\n",
      "weighted avg       0.77      0.75      0.76      3832\n",
      "\n"
     ]
    }
   ],
   "source": [
    "print(classification_report(y_test, predictions))"
   ]
  },
  {
   "cell_type": "markdown",
   "id": "249526c4",
   "metadata": {},
   "source": [
    "## ???"
   ]
  },
  {
   "cell_type": "code",
   "execution_count": null,
   "id": "892da42a",
   "metadata": {},
   "outputs": [],
   "source": [
    "# Downsampling - TomekLinks\n",
    "from imblearn.under_sampling import TomekLinks\n",
    "\n",
    "# watch out not to inflate your metrics, ideally:\n",
    "# you do the train-test split first and fit_resample only on the training set\n",
    "\n",
    "X_train, X_test, y_train, y_test = train_test_split(X, y, test_size=0.3, random_state=42)\n",
    "\n",
    "tl = TomekLinks('majority')\n",
    "\n",
    "X_tl, y_tl = tl.fit_resample(np.array(X_train), y_train)\n",
    "\n",
    "y_tl.value_counts()"
   ]
  },
  {
   "cell_type": "code",
   "execution_count": null,
   "id": "3da547de",
   "metadata": {},
   "outputs": [],
   "source": [
    "from imblearn.over_sampling import SMOTE\n",
    "\n",
    "smote = SMOTE()\n",
    "\n",
    "X_sm, y_sm = smote.fit_resample(np.array(X_train), y_train)\n",
    "y_sm.value_counts()"
   ]
  },
  {
   "cell_type": "code",
   "execution_count": null,
   "id": "9cfb0f83",
   "metadata": {},
   "outputs": [],
   "source": [
    "# Can i deal with unbalanced data after encoding?"
   ]
  },
  {
   "cell_type": "markdown",
   "id": "d89ca68c",
   "metadata": {},
   "source": [
    "## Feature Engineering"
   ]
  },
  {
   "cell_type": "code",
   "execution_count": null,
   "id": "a71190ab",
   "metadata": {},
   "outputs": [],
   "source": [
    "from scipy import stats\n",
    "\n",
    "def boxcox_transform(df):\n",
    "    numeric_cols = df.select_dtypes(np.number).columns\n",
    "    _ci = {column: None for column in numeric_cols}\n",
    "    for column in numeric_cols:\n",
    "        # since i know any columns should take negative numbers, to avoid -inf in df\n",
    "        df[column] = np.where(df[column]<=0, np.NAN, df[column]) \n",
    "        df[column] = df[column].fillna(df[column].mean())\n",
    "        transformed_data, ci = stats.boxcox(df[column])\n",
    "        df[column] = transformed_data\n",
    "        _ci[column] = [ci] \n",
    "    return df, _ci\n",
    "\n",
    "df, _ci = boxcox_transform(data)\n",
    "df"
   ]
  },
  {
   "cell_type": "code",
   "execution_count": null,
   "id": "512d1d15",
   "metadata": {},
   "outputs": [],
   "source": [
    "\"\"\"\n",
    "tl = TomekLinks('majority')\n",
    "X_tl, y_tl = tl.fit_resample(np.array(X_train), y_train)\n",
    "print('1st TkLinks:')\n",
    "print(y_tl.value_counts())\n",
    "\n",
    "smote = SMOTE()\n",
    "X_sm, y_sm = smote.fit_resample(X_tl, y_tl)\n",
    "print('SMOTE:')\n",
    "print(y_sm.value_counts())\n",
    "\n",
    "tl = TomekLinks('all')\n",
    "X_tl, y_tl = tl.fit_resample(X_sm, y_sm)\n",
    "print('2nd TkLinks:')\n",
    "print(y_tl.value_counts())\n",
    "\"\"\""
   ]
  },
  {
   "cell_type": "markdown",
   "id": "fa62c477",
   "metadata": {},
   "source": [
    "## Classification Models"
   ]
  },
  {
   "cell_type": "code",
   "execution_count": null,
   "id": "8e05c2dc",
   "metadata": {},
   "outputs": [],
   "source": [
    "from imblearn.under_sampling import TomekLinks\n",
    "\n",
    "X_train, X_test, y_train, y_test = train_test_split(X, y_class, test_size=0.3, random_state=42)\n",
    "\n",
    "tl = TomekLinks('majority')\n",
    "\n",
    "X_tl, y_tl = tl.fit_resample(np.array(X_train), y_train)\n",
    "\n",
    "y_tl.value_counts()"
   ]
  },
  {
   "cell_type": "code",
   "execution_count": null,
   "id": "99e1008f",
   "metadata": {},
   "outputs": [],
   "source": [
    "# Logistic Regression"
   ]
  },
  {
   "cell_type": "code",
   "execution_count": null,
   "id": "b52b7bf7",
   "metadata": {},
   "outputs": [],
   "source": [
    "# KNN"
   ]
  },
  {
   "cell_type": "code",
   "execution_count": null,
   "id": "056fe5ee",
   "metadata": {},
   "outputs": [],
   "source": [
    "# Random Forest"
   ]
  },
  {
   "cell_type": "code",
   "execution_count": null,
   "id": "1c237387",
   "metadata": {},
   "outputs": [],
   "source": [
    "# Decision Tree"
   ]
  }
 ],
 "metadata": {
  "kernelspec": {
   "display_name": "Python 3 (ipykernel)",
   "language": "python",
   "name": "python3"
  },
  "language_info": {
   "codemirror_mode": {
    "name": "ipython",
    "version": 3
   },
   "file_extension": ".py",
   "mimetype": "text/x-python",
   "name": "python",
   "nbconvert_exporter": "python",
   "pygments_lexer": "ipython3",
   "version": "3.9.7"
  }
 },
 "nbformat": 4,
 "nbformat_minor": 5
}
